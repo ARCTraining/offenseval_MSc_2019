{
 "cells": [
  {
   "cell_type": "markdown",
   "metadata": {},
   "source": [
    "## Offensive comment classifier"
   ]
  },
  {
   "cell_type": "code",
   "execution_count": 42,
   "metadata": {},
   "outputs": [
    {
     "name": "stdout",
     "output_type": "stream",
     "text": [
      "TweetCommentClassifier.ipynb \u001b[31moffenseval-trial.txt\u001b[m\u001b[m\r\n",
      "\u001b[31moffenseval-training-v1.tsv\u001b[m\u001b[m\r\n"
     ]
    }
   ],
   "source": [
    "#Examine the data\n",
    "#Can run Linux shell commands with !\n",
    "\n",
    "!ls"
   ]
  },
  {
   "cell_type": "code",
   "execution_count": 45,
   "metadata": {},
   "outputs": [
    {
     "name": "stdout",
     "output_type": "stream",
     "text": [
      "     320 offenseval-trial.txt\r\n"
     ]
    }
   ],
   "source": [
    "#How many lines?\n",
    "!wc -l offenseval-trial.txt"
   ]
  },
  {
   "cell_type": "code",
   "execution_count": 46,
   "metadata": {},
   "outputs": [
    {
     "name": "stdout",
     "output_type": "stream",
     "text": [
      "@BreitbartNews OK Shannon, YOU tell the veterans in those locker rooms they have to stay there until the celebration of what they fought for is over.\tNOT\tNULL\tNULL\r",
      "\r\n",
      "@LeftyGlenn @jaredeker @BookUniverse @hashtagzema @RalphLombardi @NathanHRubin Fine... Because i could afford a gun if i wanted to. I could fit it into my budget. My budgeting is fine??? Here in canada we have gun insurance and gun control? And lotsa p\tNOT\tNULL\tNULL\r",
      "\r\n",
      "Hot Mom Sucks Off Step Son In Shower 8 min https://t.co/Y0zi9f5z6J\tOFF\tUNT\tNULL\r",
      "\r\n",
      "bro these are some cute butt plugs I’m trying to cop https://t.co/RsnxRF4HTi\tOFF\tUNT\tNULL\r",
      "\r\n",
      "Arizona Supreme Court strikes down state legislation prohibiting medical marijuana use on public college c... https://t.co/f2PTckxYvP\tNOT\tNULL\tNULL\r",
      "\r\n",
      "Arguing gun control is wrong of me whoever has a strong opinion doesn’t really care about facts they have a emotional connection to the issue and its a waste of me to argue. When am I gonna learn that lol.\tNOT\tNULL\tNULL\r",
      "\r\n",
      "Doctors’ interest in medical marijuana far outpaces available research https://t.co/JLdEuhdyBG via @thecannifornian_com https://t.co/qJIgzq4HiD\tNOT\tNULL\tNULL\r",
      "\r\n",
      "A must-read and a must-share for all your friends who support common sense\" gun control. https://t.co/hiCzzpbdjy\"\tNOT\tNULL\tNULL\r",
      "\r\n",
      "@Jo2timess Now that’s the dumbest shit I have ever heard in my life!!!LIKE WTF!!!!\tOFF\tUNT\tNULL\r",
      "\r\n",
      "Agreed! When all of this drama was unfolding agents I know said Comey had stacks of resignation letters piling up on his desk &amp; no one wanted to interact with him anymore. When he let Clinton off the hook there were agents throwing shit at their TV's! You are a disgrace @Comey https://t.co/rZFBlgEWBy\tOFF\tUNT\tNULL\r",
      "\r\n"
     ]
    }
   ],
   "source": [
    "#What does the data look like?\n",
    "!head -n 10 offenseval-trial.txt"
   ]
  },
  {
   "cell_type": "code",
   "execution_count": 5,
   "metadata": {},
   "outputs": [],
   "source": [
    "#Looks like\n",
    "#No header, 4 columns and tab seperated\n",
    "#Lets read it in"
   ]
  },
  {
   "cell_type": "code",
   "execution_count": 6,
   "metadata": {},
   "outputs": [],
   "source": [
    "#Import some key Python libraries for data analysis (Pandas and Numpy)\n",
    "import pandas as pd\n",
    "import numpy as np"
   ]
  },
  {
   "cell_type": "code",
   "execution_count": 7,
   "metadata": {},
   "outputs": [],
   "source": [
    "#Import the data into a dataframe\n",
    "df = pd.read_csv('offenseval-trial.txt', sep='\\t', header=None)"
   ]
  },
  {
   "cell_type": "code",
   "execution_count": 8,
   "metadata": {},
   "outputs": [
    {
     "data": {
      "text/html": [
       "<div>\n",
       "<style scoped>\n",
       "    .dataframe tbody tr th:only-of-type {\n",
       "        vertical-align: middle;\n",
       "    }\n",
       "\n",
       "    .dataframe tbody tr th {\n",
       "        vertical-align: top;\n",
       "    }\n",
       "\n",
       "    .dataframe thead th {\n",
       "        text-align: right;\n",
       "    }\n",
       "</style>\n",
       "<table border=\"1\" class=\"dataframe\">\n",
       "  <thead>\n",
       "    <tr style=\"text-align: right;\">\n",
       "      <th></th>\n",
       "      <th>0</th>\n",
       "      <th>1</th>\n",
       "      <th>2</th>\n",
       "      <th>3</th>\n",
       "    </tr>\n",
       "  </thead>\n",
       "  <tbody>\n",
       "    <tr>\n",
       "      <th>0</th>\n",
       "      <td>@BreitbartNews OK Shannon, YOU tell the vetera...</td>\n",
       "      <td>NOT</td>\n",
       "      <td>NaN</td>\n",
       "      <td>NaN</td>\n",
       "    </tr>\n",
       "    <tr>\n",
       "      <th>1</th>\n",
       "      <td>@LeftyGlenn @jaredeker @BookUniverse @hashtagz...</td>\n",
       "      <td>NOT</td>\n",
       "      <td>NaN</td>\n",
       "      <td>NaN</td>\n",
       "    </tr>\n",
       "    <tr>\n",
       "      <th>2</th>\n",
       "      <td>Hot Mom Sucks Off Step Son In Shower 8 min htt...</td>\n",
       "      <td>OFF</td>\n",
       "      <td>UNT</td>\n",
       "      <td>NaN</td>\n",
       "    </tr>\n",
       "    <tr>\n",
       "      <th>3</th>\n",
       "      <td>bro these are some cute butt plugs I’m trying ...</td>\n",
       "      <td>OFF</td>\n",
       "      <td>UNT</td>\n",
       "      <td>NaN</td>\n",
       "    </tr>\n",
       "    <tr>\n",
       "      <th>4</th>\n",
       "      <td>Arizona Supreme Court strikes down state legis...</td>\n",
       "      <td>NOT</td>\n",
       "      <td>NaN</td>\n",
       "      <td>NaN</td>\n",
       "    </tr>\n",
       "  </tbody>\n",
       "</table>\n",
       "</div>"
      ],
      "text/plain": [
       "                                                   0    1    2    3\n",
       "0  @BreitbartNews OK Shannon, YOU tell the vetera...  NOT  NaN  NaN\n",
       "1  @LeftyGlenn @jaredeker @BookUniverse @hashtagz...  NOT  NaN  NaN\n",
       "2  Hot Mom Sucks Off Step Son In Shower 8 min htt...  OFF  UNT  NaN\n",
       "3  bro these are some cute butt plugs I’m trying ...  OFF  UNT  NaN\n",
       "4  Arizona Supreme Court strikes down state legis...  NOT  NaN  NaN"
      ]
     },
     "execution_count": 8,
     "metadata": {},
     "output_type": "execute_result"
    }
   ],
   "source": [
    "#Look at the imported data\n",
    "df.head()"
   ]
  },
  {
   "cell_type": "code",
   "execution_count": 9,
   "metadata": {},
   "outputs": [],
   "source": [
    "#For task (a) we are interested in columns 0 and 1, so let's drop 2 and 3\n",
    "df = df.drop(columns = [2, 3])"
   ]
  },
  {
   "cell_type": "code",
   "execution_count": 10,
   "metadata": {},
   "outputs": [
    {
     "data": {
      "text/html": [
       "<div>\n",
       "<style scoped>\n",
       "    .dataframe tbody tr th:only-of-type {\n",
       "        vertical-align: middle;\n",
       "    }\n",
       "\n",
       "    .dataframe tbody tr th {\n",
       "        vertical-align: top;\n",
       "    }\n",
       "\n",
       "    .dataframe thead th {\n",
       "        text-align: right;\n",
       "    }\n",
       "</style>\n",
       "<table border=\"1\" class=\"dataframe\">\n",
       "  <thead>\n",
       "    <tr style=\"text-align: right;\">\n",
       "      <th></th>\n",
       "      <th>0</th>\n",
       "      <th>1</th>\n",
       "    </tr>\n",
       "  </thead>\n",
       "  <tbody>\n",
       "    <tr>\n",
       "      <th>0</th>\n",
       "      <td>@BreitbartNews OK Shannon, YOU tell the vetera...</td>\n",
       "      <td>NOT</td>\n",
       "    </tr>\n",
       "    <tr>\n",
       "      <th>1</th>\n",
       "      <td>@LeftyGlenn @jaredeker @BookUniverse @hashtagz...</td>\n",
       "      <td>NOT</td>\n",
       "    </tr>\n",
       "    <tr>\n",
       "      <th>2</th>\n",
       "      <td>Hot Mom Sucks Off Step Son In Shower 8 min htt...</td>\n",
       "      <td>OFF</td>\n",
       "    </tr>\n",
       "    <tr>\n",
       "      <th>3</th>\n",
       "      <td>bro these are some cute butt plugs I’m trying ...</td>\n",
       "      <td>OFF</td>\n",
       "    </tr>\n",
       "    <tr>\n",
       "      <th>4</th>\n",
       "      <td>Arizona Supreme Court strikes down state legis...</td>\n",
       "      <td>NOT</td>\n",
       "    </tr>\n",
       "  </tbody>\n",
       "</table>\n",
       "</div>"
      ],
      "text/plain": [
       "                                                   0    1\n",
       "0  @BreitbartNews OK Shannon, YOU tell the vetera...  NOT\n",
       "1  @LeftyGlenn @jaredeker @BookUniverse @hashtagz...  NOT\n",
       "2  Hot Mom Sucks Off Step Son In Shower 8 min htt...  OFF\n",
       "3  bro these are some cute butt plugs I’m trying ...  OFF\n",
       "4  Arizona Supreme Court strikes down state legis...  NOT"
      ]
     },
     "execution_count": 10,
     "metadata": {},
     "output_type": "execute_result"
    }
   ],
   "source": [
    "df.head()"
   ]
  },
  {
   "cell_type": "code",
   "execution_count": 11,
   "metadata": {},
   "outputs": [
    {
     "data": {
      "text/html": [
       "<div>\n",
       "<style scoped>\n",
       "    .dataframe tbody tr th:only-of-type {\n",
       "        vertical-align: middle;\n",
       "    }\n",
       "\n",
       "    .dataframe tbody tr th {\n",
       "        vertical-align: top;\n",
       "    }\n",
       "\n",
       "    .dataframe thead th {\n",
       "        text-align: right;\n",
       "    }\n",
       "</style>\n",
       "<table border=\"1\" class=\"dataframe\">\n",
       "  <thead>\n",
       "    <tr style=\"text-align: right;\">\n",
       "      <th></th>\n",
       "      <th>0</th>\n",
       "      <th>1</th>\n",
       "    </tr>\n",
       "  </thead>\n",
       "  <tbody>\n",
       "    <tr>\n",
       "      <th>count</th>\n",
       "      <td>320</td>\n",
       "      <td>320</td>\n",
       "    </tr>\n",
       "    <tr>\n",
       "      <th>unique</th>\n",
       "      <td>320</td>\n",
       "      <td>2</td>\n",
       "    </tr>\n",
       "    <tr>\n",
       "      <th>top</th>\n",
       "      <td>Interesting how guns get such a bad rap in the...</td>\n",
       "      <td>NOT</td>\n",
       "    </tr>\n",
       "    <tr>\n",
       "      <th>freq</th>\n",
       "      <td>1</td>\n",
       "      <td>243</td>\n",
       "    </tr>\n",
       "  </tbody>\n",
       "</table>\n",
       "</div>"
      ],
      "text/plain": [
       "                                                        0    1\n",
       "count                                                 320  320\n",
       "unique                                                320    2\n",
       "top     Interesting how guns get such a bad rap in the...  NOT\n",
       "freq                                                    1  243"
      ]
     },
     "execution_count": 11,
     "metadata": {},
     "output_type": "execute_result"
    }
   ],
   "source": [
    "#Let's understand the data a bit more\n",
    "df.describe()"
   ]
  },
  {
   "cell_type": "markdown",
   "metadata": {},
   "source": [
    "From: https://pandas.pydata.org/pandas-docs/stable/reference/api/pandas.DataFrame.describe.html\n",
    "\n",
    "For object data (e.g. strings or timestamps), the result’s index will include count, unique, top, and freq. The top is the most common value. The freq is the most common value’s frequency. Timestamps also include the first and last items.\n",
    "\n",
    "If multiple object values have the highest count, then the count and top results will be arbitrarily chosen from among those with the highest count.\n",
    "        "
   ]
  },
  {
   "cell_type": "code",
   "execution_count": 12,
   "metadata": {},
   "outputs": [],
   "source": [
    "#Name the columns- makes life easier\n",
    "df.columns = ['tweet', 'label']"
   ]
  },
  {
   "cell_type": "code",
   "execution_count": 13,
   "metadata": {},
   "outputs": [
    {
     "data": {
      "text/html": [
       "<div>\n",
       "<style scoped>\n",
       "    .dataframe tbody tr th:only-of-type {\n",
       "        vertical-align: middle;\n",
       "    }\n",
       "\n",
       "    .dataframe tbody tr th {\n",
       "        vertical-align: top;\n",
       "    }\n",
       "\n",
       "    .dataframe thead th {\n",
       "        text-align: right;\n",
       "    }\n",
       "</style>\n",
       "<table border=\"1\" class=\"dataframe\">\n",
       "  <thead>\n",
       "    <tr style=\"text-align: right;\">\n",
       "      <th></th>\n",
       "      <th>tweet</th>\n",
       "      <th>label</th>\n",
       "    </tr>\n",
       "  </thead>\n",
       "  <tbody>\n",
       "    <tr>\n",
       "      <th>0</th>\n",
       "      <td>@BreitbartNews OK Shannon, YOU tell the vetera...</td>\n",
       "      <td>NOT</td>\n",
       "    </tr>\n",
       "    <tr>\n",
       "      <th>1</th>\n",
       "      <td>@LeftyGlenn @jaredeker @BookUniverse @hashtagz...</td>\n",
       "      <td>NOT</td>\n",
       "    </tr>\n",
       "    <tr>\n",
       "      <th>2</th>\n",
       "      <td>Hot Mom Sucks Off Step Son In Shower 8 min htt...</td>\n",
       "      <td>OFF</td>\n",
       "    </tr>\n",
       "    <tr>\n",
       "      <th>3</th>\n",
       "      <td>bro these are some cute butt plugs I’m trying ...</td>\n",
       "      <td>OFF</td>\n",
       "    </tr>\n",
       "    <tr>\n",
       "      <th>4</th>\n",
       "      <td>Arizona Supreme Court strikes down state legis...</td>\n",
       "      <td>NOT</td>\n",
       "    </tr>\n",
       "  </tbody>\n",
       "</table>\n",
       "</div>"
      ],
      "text/plain": [
       "                                               tweet label\n",
       "0  @BreitbartNews OK Shannon, YOU tell the vetera...   NOT\n",
       "1  @LeftyGlenn @jaredeker @BookUniverse @hashtagz...   NOT\n",
       "2  Hot Mom Sucks Off Step Son In Shower 8 min htt...   OFF\n",
       "3  bro these are some cute butt plugs I’m trying ...   OFF\n",
       "4  Arizona Supreme Court strikes down state legis...   NOT"
      ]
     },
     "execution_count": 13,
     "metadata": {},
     "output_type": "execute_result"
    }
   ],
   "source": [
    "df.head()"
   ]
  },
  {
   "cell_type": "markdown",
   "metadata": {},
   "source": [
    "### Step 1: Preprocess the data, mainly data cleaning"
   ]
  },
  {
   "cell_type": "code",
   "execution_count": 22,
   "metadata": {},
   "outputs": [],
   "source": [
    "#Split out the data, putting two two columns into two separate lists (so we don't cheat)\n",
    "tweets = []\n",
    "tweet_labels = []"
   ]
  },
  {
   "cell_type": "code",
   "execution_count": 23,
   "metadata": {},
   "outputs": [],
   "source": [
    "tweets = df['tweet'].tolist()"
   ]
  },
  {
   "cell_type": "code",
   "execution_count": 24,
   "metadata": {},
   "outputs": [],
   "source": [
    "tweet_labels = df['label'].tolist()"
   ]
  },
  {
   "cell_type": "code",
   "execution_count": 47,
   "metadata": {},
   "outputs": [],
   "source": [
    "#Have a quick look at the lists\n",
    "#tweets\n",
    "#tweet_labels\n"
   ]
  },
  {
   "cell_type": "markdown",
   "metadata": {},
   "source": [
    "## Step 2: Vectorise the data"
   ]
  },
  {
   "cell_type": "markdown",
   "metadata": {},
   "source": [
    "We'll initialise a scikit-learn vector with the `CountVectorizer` class.  The data could be formatted in many different ways but as a start let's set it to lower case and exclude some common stop words.\n",
    "\n",
    "The vectorizer will convert the data into vectors of features. As we'll use a `CountVector` the features are counts of the words that occur in the dataset.  We'll then fit the vectoriser onto our data and concert it to an array."
   ]
  },
  {
   "cell_type": "code",
   "execution_count": 29,
   "metadata": {},
   "outputs": [],
   "source": [
    "from sklearn.feature_extraction.text import CountVectorizer\n",
    "\n",
    "vectorizer = CountVectorizer(\n",
    "    analyzer = 'word',\n",
    "    lowercase = False,\n",
    ")\n",
    "\n",
    "features = vectorizer.fit_transform(tweets)\n",
    "\n",
    "features_nd = features.toarray() # for easy usage"
   ]
  },
  {
   "cell_type": "markdown",
   "metadata": {},
   "source": [
    "Split the training data to get an evaluation set through Scikit-learn’s built-in cross_validation function. Provide the data and assign a training percentage (in this case, 80%)."
   ]
  },
  {
   "cell_type": "code",
   "execution_count": 30,
   "metadata": {},
   "outputs": [
    {
     "name": "stderr",
     "output_type": "stream",
     "text": [
      "/anaconda3/lib/python3.6/site-packages/sklearn/cross_validation.py:41: DeprecationWarning: This module was deprecated in version 0.18 in favor of the model_selection module into which all the refactored classes and functions are moved. Also note that the interface of the new CV iterators are different from that of this module. This module will be removed in 0.20.\n",
      "  \"This module will be removed in 0.20.\", DeprecationWarning)\n"
     ]
    }
   ],
   "source": [
    "from sklearn.cross_validation import train_test_split\n",
    "\n",
    "X_train, X_test, y_train, y_test  = train_test_split(\n",
    "        features_nd, \n",
    "        tweet_labels,\n",
    "        train_size=0.80, \n",
    "        random_state=1234)"
   ]
  },
  {
   "cell_type": "markdown",
   "metadata": {},
   "source": [
    "## Step 3: Build a Classifier model"
   ]
  },
  {
   "cell_type": "markdown",
   "metadata": {},
   "source": [
    "There are many classifier models we could (and should) build and test.  We'll start with a simple model from Scikit-learn `LogisticRegression`."
   ]
  },
  {
   "cell_type": "code",
   "execution_count": 32,
   "metadata": {},
   "outputs": [],
   "source": [
    "from sklearn.linear_model import LogisticRegression\n",
    "log_model = LogisticRegression()"
   ]
  },
  {
   "cell_type": "markdown",
   "metadata": {},
   "source": [
    "That's an empty model. Now let's train it to our specific dataset.  We'll use the scikit-learn `fit` method to get the ML classifier to *learn* the underlying functions that produce our results."
   ]
  },
  {
   "cell_type": "code",
   "execution_count": 33,
   "metadata": {},
   "outputs": [],
   "source": [
    "log_model = log_model.fit(X=X_train, y=y_train)"
   ]
  },
  {
   "cell_type": "markdown",
   "metadata": {},
   "source": [
    "Use `log_model` to label our evaluation set we created earlier"
   ]
  },
  {
   "cell_type": "code",
   "execution_count": 36,
   "metadata": {},
   "outputs": [],
   "source": [
    "y_pred = log_model.predict(X_test)"
   ]
  },
  {
   "cell_type": "markdown",
   "metadata": {},
   "source": [
    "### How accurate is this?"
   ]
  },
  {
   "cell_type": "code",
   "execution_count": 39,
   "metadata": {},
   "outputs": [
    {
     "name": "stdout",
     "output_type": "stream",
     "text": [
      "NOT\n",
      "HAHAHA WHAT??? So does that mean the WWE Superstars that blocked me have to unblock me?? 😂😂 CAN I SUE??? #HolyShit https://t.co/SfS4l59U4X\n",
      "NOT\n",
      "As a football fan, F u c k this shit ⬇️ And it’s not even the first or last time this organization mishandles an important issue. 🙄 https://t.co/ZmEQSWr3Jz\n",
      "NOT\n",
      "@BreitbartNews It's hard to understand how representative Al Green wants to impeach a president. Who has brought black unemployment to its lowest levels. What hypocrisy we're all Americans and yet hatred and divisiveness is all the Democrat has to offer.\n",
      "NOT\n",
      "@BreitbartNews Jim Carey was APPROPRIATELY cast for the lead in DUMB and DUMBER.\n",
      "NOT\n",
      "@RickCarioti89 @AT12397451 @NYDailyNews You have called me “nuts” and the only reason I haven’t blocked you was because I thought you were a teenager and don’t know better. Now you insulted me again and you are done.\n",
      "NOT\n",
      "10 #Marvel and #DC Parodies That Are Not For Kids https://t.co/PEUycBcQOU https://t.co/UfObfezQl6\n",
      "NOT\n",
      "The Arizona Supreme Court is scheduled to rule on the legality of medical marijuana on college campuses. https://t.co/De7o7LEK4J\n"
     ]
    }
   ],
   "source": [
    "#Choose a random set of tweets from our test data and then call the model on each.\n",
    "import random\n",
    "j = random.randint(0,len(X_test)-7)\n",
    "\n",
    "for i in range(j,j+7):\n",
    "    print(y_pred[0])\n",
    "    ind = features_nd.tolist().index(X_test[i].tolist())\n",
    "    print(tweets[ind].strip())"
   ]
  },
  {
   "cell_type": "markdown",
   "metadata": {},
   "source": [
    "Just looking at the data is a poor method to gauge accuracy and there are clearly some misclassifications.\n",
    "Let's use scikit learn to calculate an accuracy score.\n",
    "\n",
    "`sklearn.metrics.accuracy_score` will help us calculate what percentage of tweets are classified correctly."
   ]
  },
  {
   "cell_type": "code",
   "execution_count": 41,
   "metadata": {},
   "outputs": [
    {
     "name": "stdout",
     "output_type": "stream",
     "text": [
      "0.84375\n"
     ]
    }
   ],
   "source": [
    "from sklearn.metrics import accuracy_score\n",
    "print(accuracy_score(y_test, y_pred))"
   ]
  },
  {
   "cell_type": "markdown",
   "metadata": {},
   "source": [
    "### **84%**\n",
    "\n",
    "Not bad, better than random guessing but still far from perfect.\n",
    "\n",
    "I've used a very simple classifier and a small dataset so let's go back and try again but this time with the full dataset."
   ]
  },
  {
   "cell_type": "code",
   "execution_count": 50,
   "metadata": {},
   "outputs": [],
   "source": [
    "#Step 0: Import the data into a dataframe\n",
    "df = pd.read_csv('offenseval-training-v1.tsv', sep='\\t')"
   ]
  },
  {
   "cell_type": "code",
   "execution_count": 51,
   "metadata": {},
   "outputs": [
    {
     "data": {
      "text/html": [
       "<div>\n",
       "<style scoped>\n",
       "    .dataframe tbody tr th:only-of-type {\n",
       "        vertical-align: middle;\n",
       "    }\n",
       "\n",
       "    .dataframe tbody tr th {\n",
       "        vertical-align: top;\n",
       "    }\n",
       "\n",
       "    .dataframe thead th {\n",
       "        text-align: right;\n",
       "    }\n",
       "</style>\n",
       "<table border=\"1\" class=\"dataframe\">\n",
       "  <thead>\n",
       "    <tr style=\"text-align: right;\">\n",
       "      <th></th>\n",
       "      <th>id</th>\n",
       "      <th>tweet</th>\n",
       "      <th>subtask_a</th>\n",
       "      <th>subtask_b</th>\n",
       "      <th>subtask_c</th>\n",
       "    </tr>\n",
       "  </thead>\n",
       "  <tbody>\n",
       "    <tr>\n",
       "      <th>0</th>\n",
       "      <td>86426</td>\n",
       "      <td>@USER She should ask a few native Americans wh...</td>\n",
       "      <td>OFF</td>\n",
       "      <td>UNT</td>\n",
       "      <td>NaN</td>\n",
       "    </tr>\n",
       "    <tr>\n",
       "      <th>1</th>\n",
       "      <td>90194</td>\n",
       "      <td>@USER @USER Go home you’re drunk!!! @USER #MAG...</td>\n",
       "      <td>OFF</td>\n",
       "      <td>TIN</td>\n",
       "      <td>IND</td>\n",
       "    </tr>\n",
       "    <tr>\n",
       "      <th>2</th>\n",
       "      <td>16820</td>\n",
       "      <td>Amazon is investigating Chinese employees who ...</td>\n",
       "      <td>NOT</td>\n",
       "      <td>NaN</td>\n",
       "      <td>NaN</td>\n",
       "    </tr>\n",
       "    <tr>\n",
       "      <th>3</th>\n",
       "      <td>62688</td>\n",
       "      <td>@USER Someone should'veTaken\" this piece of sh...</td>\n",
       "      <td>OFF</td>\n",
       "      <td>UNT</td>\n",
       "      <td>NaN</td>\n",
       "    </tr>\n",
       "    <tr>\n",
       "      <th>4</th>\n",
       "      <td>43605</td>\n",
       "      <td>@USER @USER Obama wanted liberals &amp;amp; illega...</td>\n",
       "      <td>NOT</td>\n",
       "      <td>NaN</td>\n",
       "      <td>NaN</td>\n",
       "    </tr>\n",
       "  </tbody>\n",
       "</table>\n",
       "</div>"
      ],
      "text/plain": [
       "      id                                              tweet subtask_a  \\\n",
       "0  86426  @USER She should ask a few native Americans wh...       OFF   \n",
       "1  90194  @USER @USER Go home you’re drunk!!! @USER #MAG...       OFF   \n",
       "2  16820  Amazon is investigating Chinese employees who ...       NOT   \n",
       "3  62688  @USER Someone should'veTaken\" this piece of sh...       OFF   \n",
       "4  43605  @USER @USER Obama wanted liberals &amp; illega...       NOT   \n",
       "\n",
       "  subtask_b subtask_c  \n",
       "0       UNT       NaN  \n",
       "1       TIN       IND  \n",
       "2       NaN       NaN  \n",
       "3       UNT       NaN  \n",
       "4       NaN       NaN  "
      ]
     },
     "execution_count": 51,
     "metadata": {},
     "output_type": "execute_result"
    }
   ],
   "source": [
    "df.head()"
   ]
  },
  {
   "cell_type": "code",
   "execution_count": 53,
   "metadata": {},
   "outputs": [
    {
     "data": {
      "text/html": [
       "<div>\n",
       "<style scoped>\n",
       "    .dataframe tbody tr th:only-of-type {\n",
       "        vertical-align: middle;\n",
       "    }\n",
       "\n",
       "    .dataframe tbody tr th {\n",
       "        vertical-align: top;\n",
       "    }\n",
       "\n",
       "    .dataframe thead th {\n",
       "        text-align: right;\n",
       "    }\n",
       "</style>\n",
       "<table border=\"1\" class=\"dataframe\">\n",
       "  <thead>\n",
       "    <tr style=\"text-align: right;\">\n",
       "      <th></th>\n",
       "      <th>tweet</th>\n",
       "      <th>subtask_a</th>\n",
       "    </tr>\n",
       "  </thead>\n",
       "  <tbody>\n",
       "    <tr>\n",
       "      <th>0</th>\n",
       "      <td>@USER She should ask a few native Americans wh...</td>\n",
       "      <td>OFF</td>\n",
       "    </tr>\n",
       "    <tr>\n",
       "      <th>1</th>\n",
       "      <td>@USER @USER Go home you’re drunk!!! @USER #MAG...</td>\n",
       "      <td>OFF</td>\n",
       "    </tr>\n",
       "    <tr>\n",
       "      <th>2</th>\n",
       "      <td>Amazon is investigating Chinese employees who ...</td>\n",
       "      <td>NOT</td>\n",
       "    </tr>\n",
       "    <tr>\n",
       "      <th>3</th>\n",
       "      <td>@USER Someone should'veTaken\" this piece of sh...</td>\n",
       "      <td>OFF</td>\n",
       "    </tr>\n",
       "    <tr>\n",
       "      <th>4</th>\n",
       "      <td>@USER @USER Obama wanted liberals &amp;amp; illega...</td>\n",
       "      <td>NOT</td>\n",
       "    </tr>\n",
       "  </tbody>\n",
       "</table>\n",
       "</div>"
      ],
      "text/plain": [
       "                                               tweet subtask_a\n",
       "0  @USER She should ask a few native Americans wh...       OFF\n",
       "1  @USER @USER Go home you’re drunk!!! @USER #MAG...       OFF\n",
       "2  Amazon is investigating Chinese employees who ...       NOT\n",
       "3  @USER Someone should'veTaken\" this piece of sh...       OFF\n",
       "4  @USER @USER Obama wanted liberals &amp; illega...       NOT"
      ]
     },
     "execution_count": 53,
     "metadata": {},
     "output_type": "execute_result"
    }
   ],
   "source": [
    "df = df.drop(columns = ['id', 'subtask_b', 'subtask_c'])\n",
    "df.head()"
   ]
  },
  {
   "cell_type": "code",
   "execution_count": 55,
   "metadata": {},
   "outputs": [],
   "source": [
    "#Step 1: Preprocess\n",
    "#Split out the data, putting two two columns into two separate lists (so we don't cheat)\n",
    "tweets = []\n",
    "tweet_labels = []\n",
    "\n",
    "tweets = df['tweet'].tolist()\n",
    "tweet_labels = df['subtask_a'].tolist()"
   ]
  },
  {
   "cell_type": "code",
   "execution_count": 56,
   "metadata": {},
   "outputs": [],
   "source": [
    "#Step 2: Vectorise\n",
    "from sklearn.feature_extraction.text import CountVectorizer\n",
    "\n",
    "vectorizer = CountVectorizer(\n",
    "    analyzer = 'word',\n",
    "    lowercase = False,\n",
    ")\n",
    "\n",
    "features = vectorizer.fit_transform(tweets)\n",
    "\n",
    "features_nd = features.toarray() # for easy usage"
   ]
  },
  {
   "cell_type": "code",
   "execution_count": 57,
   "metadata": {},
   "outputs": [],
   "source": [
    "from sklearn.cross_validation import train_test_split\n",
    "\n",
    "X_train, X_test, y_train, y_test  = train_test_split(\n",
    "        features_nd, \n",
    "        tweet_labels,\n",
    "        train_size=0.80, \n",
    "        random_state=1234)"
   ]
  },
  {
   "cell_type": "code",
   "execution_count": 58,
   "metadata": {},
   "outputs": [],
   "source": [
    "#Step 3: Build a classifier\n",
    "from sklearn.linear_model import LogisticRegression\n",
    "log_model = LogisticRegression()"
   ]
  },
  {
   "cell_type": "code",
   "execution_count": 59,
   "metadata": {},
   "outputs": [],
   "source": [
    "#Train\n",
    "log_model = log_model.fit(X=X_train, y=y_train)"
   ]
  },
  {
   "cell_type": "code",
   "execution_count": 61,
   "metadata": {},
   "outputs": [],
   "source": [
    "#and label\n",
    "y_pred = log_model.predict(X_test)"
   ]
  },
  {
   "cell_type": "code",
   "execution_count": 62,
   "metadata": {},
   "outputs": [],
   "source": [
    "#Check accuracy"
   ]
  },
  {
   "cell_type": "code",
   "execution_count": 63,
   "metadata": {},
   "outputs": [
    {
     "name": "stdout",
     "output_type": "stream",
     "text": [
      "NOT\n",
      "@USER @USER Now Comes The Pain...............  #MAGA🇺🇸🇺🇸🇺🇸🇺🇸🇺🇸  #WWG1WGA URL\n",
      "NOT\n",
      "@USER @USER @USER Chicago has been ran by Democrats for decades.  Why is it up to the GOP to solve the problems they created to begin with?  Act is absolutely code for gun control and that's not happening nor would it help anyway.  You need 1000 detectives.  Start hiring.\n",
      "NOT\n",
      "@USER Google got big by being the best search engine.  This is one reason why it is no longer a trustworthy search engine. @USER\n",
      "NOT\n",
      "@USER As it gets closer to November the left is in full on panic mode their talking points will forever be 25th Amendment. Ok idiots let’s see you try it.\n",
      "NOT\n",
      "@USER Spot on again Speedy. Always the victim when things aren’t going her way. Far cry from the Graf’s of the sport even though her stats will suggest she is one of the greats.\n",
      "NOT\n",
      "@USER HEY BEE ITCH YOU WILL BE INDICTED AND WILL GO TO GITMO\n",
      "NOT\n",
      "@USER LMBO! She's like Pelosi. She thinks she important because she is a female. She is a destriment to society and Real Women!\n"
     ]
    }
   ],
   "source": [
    "#Choose a random set of tweets from our test data and then call the model on each.\n",
    "import random\n",
    "j = random.randint(0,len(X_test)-7)\n",
    "\n",
    "for i in range(j,j+7):\n",
    "    print(y_pred[0])\n",
    "    ind = features_nd.tolist().index(X_test[i].tolist())\n",
    "    print(tweets[ind].strip())"
   ]
  },
  {
   "cell_type": "code",
   "execution_count": 65,
   "metadata": {},
   "outputs": [
    {
     "name": "stdout",
     "output_type": "stream",
     "text": [
      "0.7530211480362538\n"
     ]
    }
   ],
   "source": [
    "#Calculate accuracy score\n",
    "from sklearn.metrics import accuracy_score\n",
    "print(accuracy_score(y_test, y_pred))"
   ]
  },
  {
   "cell_type": "markdown",
   "metadata": {},
   "source": [
    "### Less accurate!!!"
   ]
  },
  {
   "cell_type": "code",
   "execution_count": null,
   "metadata": {},
   "outputs": [],
   "source": []
  }
 ],
 "metadata": {
  "kernelspec": {
   "display_name": "Python 3",
   "language": "python",
   "name": "python3"
  },
  "language_info": {
   "codemirror_mode": {
    "name": "ipython",
    "version": 3
   },
   "file_extension": ".py",
   "mimetype": "text/x-python",
   "name": "python",
   "nbconvert_exporter": "python",
   "pygments_lexer": "ipython3",
   "version": "3.6.5"
  }
 },
 "nbformat": 4,
 "nbformat_minor": 2
}
